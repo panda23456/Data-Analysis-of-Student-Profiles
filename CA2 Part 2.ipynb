{
 "cells": [
  {
   "cell_type": "markdown",
   "metadata": {},
   "source": [
    "## Part 2: Analyzing Student Profiles\n",
    "\n",
    "### Assignment Overview\n",
    "Analyze the Student Profiles of a business training institute. Use plotly to plot charts and provide compelling insights.\n",
    "\n",
    "#### Objective\n",
    "Analyze the relationship between student nationality amd their highest qualification, age, course name/code and course funding\n",
    "\n",
    "**Task:**\n",
    "- Two charts using plotly express or graph objects\n",
    "- One plotly dash that may contain one or more charts and include interactive\n",
    "elements such as dropdown menu.\n"
   ]
  },
  {
   "cell_type": "markdown",
   "metadata": {},
   "source": [
    "# Data Cleaning"
   ]
  },
  {
   "cell_type": "code",
   "execution_count": 281,
   "metadata": {},
   "outputs": [],
   "source": [
    "import pandas as pd\n",
    "import seaborn as sns\n",
    "import matplotlib.pyplot as plt"
   ]
  },
  {
   "cell_type": "markdown",
   "metadata": {},
   "source": [
    "# Loading the data"
   ]
  },
  {
   "cell_type": "code",
   "execution_count": 282,
   "metadata": {},
   "outputs": [
    {
     "data": {
      "text/html": [
       "<div>\n",
       "<style scoped>\n",
       "    .dataframe tbody tr th:only-of-type {\n",
       "        vertical-align: middle;\n",
       "    }\n",
       "\n",
       "    .dataframe tbody tr th {\n",
       "        vertical-align: top;\n",
       "    }\n",
       "\n",
       "    .dataframe thead th {\n",
       "        text-align: right;\n",
       "    }\n",
       "</style>\n",
       "<table border=\"1\" class=\"dataframe\">\n",
       "  <thead>\n",
       "    <tr style=\"text-align: right;\">\n",
       "      <th></th>\n",
       "      <th>STUDENT ID</th>\n",
       "      <th>SALUTATION</th>\n",
       "      <th>GENDER</th>\n",
       "      <th>NATIONALITY</th>\n",
       "      <th>LOCAL</th>\n",
       "      <th>FOREIGN</th>\n",
       "      <th>DOB</th>\n",
       "      <th>HIGHEST QUALIFICATION</th>\n",
       "      <th>NAME OF QUALIFICATION AND INSTITUTION</th>\n",
       "      <th>DATE ATTAINED HIGHEST QUALIFICATION</th>\n",
       "      <th>DESIGNATION</th>\n",
       "      <th>INTAKE NO</th>\n",
       "      <th>COMMENCEMENT DATE</th>\n",
       "      <th>COMPLETION DATE</th>\n",
       "      <th>FULL-TIME OR PART-TIME</th>\n",
       "      <th>COURSE FUNDING</th>\n",
       "      <th>REGISTRATION FEE</th>\n",
       "      <th>PAYMENT MODE</th>\n",
       "      <th>COURSE FEE</th>\n",
       "      <th>GPA</th>\n",
       "    </tr>\n",
       "  </thead>\n",
       "  <tbody>\n",
       "    <tr>\n",
       "      <th>0</th>\n",
       "      <td>2020/1101-013/001</td>\n",
       "      <td>Ms</td>\n",
       "      <td>F</td>\n",
       "      <td>Singaporean</td>\n",
       "      <td>Y</td>\n",
       "      <td></td>\n",
       "      <td>04/03/1978</td>\n",
       "      <td>Certificate</td>\n",
       "      <td>Certificate in Office Skills, ITE</td>\n",
       "      <td>2016-11-06</td>\n",
       "      <td>Snr Associate, Client Services</td>\n",
       "      <td>13th</td>\n",
       "      <td>2020-01-06</td>\n",
       "      <td>2021-04-06 00:00:00</td>\n",
       "      <td>Part-Time</td>\n",
       "      <td>Individual - SFC</td>\n",
       "      <td>107</td>\n",
       "      <td>NETS</td>\n",
       "      <td>1712</td>\n",
       "      <td>3.0</td>\n",
       "    </tr>\n",
       "    <tr>\n",
       "      <th>1</th>\n",
       "      <td>2020/1101-013/002</td>\n",
       "      <td>Ms</td>\n",
       "      <td>F</td>\n",
       "      <td>Singaporean</td>\n",
       "      <td>Y</td>\n",
       "      <td></td>\n",
       "      <td>23/03/1966</td>\n",
       "      <td>Certificate</td>\n",
       "      <td>WSQ Higher Certificate in Human Resources, WPL...</td>\n",
       "      <td>2018-02-06</td>\n",
       "      <td>Admin Officer</td>\n",
       "      <td>13th</td>\n",
       "      <td>2020-01-06</td>\n",
       "      <td>2021-04-06 00:00:00</td>\n",
       "      <td>Part-Time</td>\n",
       "      <td>Individual</td>\n",
       "      <td>107</td>\n",
       "      <td>NETS</td>\n",
       "      <td>1712</td>\n",
       "      <td>2.5</td>\n",
       "    </tr>\n",
       "    <tr>\n",
       "      <th>2</th>\n",
       "      <td>2020/1101-013/003</td>\n",
       "      <td>Ms</td>\n",
       "      <td>F</td>\n",
       "      <td>Singaporean</td>\n",
       "      <td>Y</td>\n",
       "      <td>NaN</td>\n",
       "      <td>04/12/1988</td>\n",
       "      <td>Certificate</td>\n",
       "      <td>Nitec in Service Skills (Office), ITE</td>\n",
       "      <td>2016-11-06</td>\n",
       "      <td>Admin Assistant</td>\n",
       "      <td>13th</td>\n",
       "      <td>2020-01-06</td>\n",
       "      <td>2021-04-06 00:00:00</td>\n",
       "      <td>Part-Time</td>\n",
       "      <td>Sponsored - no SDF</td>\n",
       "      <td>107</td>\n",
       "      <td>CC JPM</td>\n",
       "      <td>1712</td>\n",
       "      <td>2.0</td>\n",
       "    </tr>\n",
       "    <tr>\n",
       "      <th>3</th>\n",
       "      <td>2020/1101-014/004</td>\n",
       "      <td>Ms</td>\n",
       "      <td>F</td>\n",
       "      <td>Singaporean</td>\n",
       "      <td>Y</td>\n",
       "      <td>NaN</td>\n",
       "      <td>27/11/1991</td>\n",
       "      <td>Degree</td>\n",
       "      <td>Bachelor Science (Facilities &amp; Events Manageme...</td>\n",
       "      <td>2017-06-10</td>\n",
       "      <td>HR Administrator</td>\n",
       "      <td>14th</td>\n",
       "      <td>2020-03-10</td>\n",
       "      <td>2021-06-09 00:00:00</td>\n",
       "      <td>Part-Time</td>\n",
       "      <td>Individual - SFC</td>\n",
       "      <td>107</td>\n",
       "      <td>NETS</td>\n",
       "      <td>1212</td>\n",
       "      <td>2.5</td>\n",
       "    </tr>\n",
       "    <tr>\n",
       "      <th>4</th>\n",
       "      <td>2020/1101-014/005</td>\n",
       "      <td>Ms</td>\n",
       "      <td>F</td>\n",
       "      <td>Singaporean</td>\n",
       "      <td>Y</td>\n",
       "      <td></td>\n",
       "      <td>23/04/1985</td>\n",
       "      <td>Diploma</td>\n",
       "      <td>Diploma in Procurement and Supply Management, ...</td>\n",
       "      <td>2016-08-10</td>\n",
       "      <td>Purchasing Executive</td>\n",
       "      <td>14th</td>\n",
       "      <td>2020-03-10</td>\n",
       "      <td>2021-06-09 00:00:00</td>\n",
       "      <td>Part-Time</td>\n",
       "      <td>Individual - SFC</td>\n",
       "      <td>107</td>\n",
       "      <td>NETS</td>\n",
       "      <td>1712</td>\n",
       "      <td>2.4</td>\n",
       "    </tr>\n",
       "  </tbody>\n",
       "</table>\n",
       "</div>"
      ],
      "text/plain": [
       "          STUDENT ID SALUTATION GENDER  NATIONALITY LOCAL FOREIGN         DOB  \\\n",
       "0  2020/1101-013/001         Ms      F  Singaporean     Y          04/03/1978   \n",
       "1  2020/1101-013/002         Ms      F  Singaporean     Y          23/03/1966   \n",
       "2  2020/1101-013/003         Ms      F  Singaporean     Y     NaN  04/12/1988   \n",
       "3  2020/1101-014/004         Ms      F  Singaporean     Y     NaN  27/11/1991   \n",
       "4  2020/1101-014/005         Ms      F  Singaporean     Y          23/04/1985   \n",
       "\n",
       "  HIGHEST QUALIFICATION              NAME OF QUALIFICATION AND INSTITUTION  \\\n",
       "0           Certificate                  Certificate in Office Skills, ITE   \n",
       "1           Certificate  WSQ Higher Certificate in Human Resources, WPL...   \n",
       "2           Certificate              Nitec in Service Skills (Office), ITE   \n",
       "3                Degree  Bachelor Science (Facilities & Events Manageme...   \n",
       "4               Diploma  Diploma in Procurement and Supply Management, ...   \n",
       "\n",
       "  DATE ATTAINED HIGHEST QUALIFICATION                     DESIGNATION  \\\n",
       "0                          2016-11-06  Snr Associate, Client Services   \n",
       "1                          2018-02-06                   Admin Officer   \n",
       "2                          2016-11-06                 Admin Assistant   \n",
       "3                          2017-06-10                HR Administrator   \n",
       "4                          2016-08-10            Purchasing Executive   \n",
       "\n",
       "  INTAKE NO COMMENCEMENT DATE      COMPLETION DATE FULL-TIME OR PART-TIME  \\\n",
       "0      13th        2020-01-06  2021-04-06 00:00:00              Part-Time   \n",
       "1      13th        2020-01-06  2021-04-06 00:00:00              Part-Time   \n",
       "2      13th        2020-01-06  2021-04-06 00:00:00              Part-Time   \n",
       "3      14th        2020-03-10  2021-06-09 00:00:00              Part-Time   \n",
       "4      14th        2020-03-10  2021-06-09 00:00:00              Part-Time   \n",
       "\n",
       "       COURSE FUNDING REGISTRATION FEE PAYMENT MODE  COURSE FEE  GPA  \n",
       "0    Individual - SFC              107         NETS        1712  3.0  \n",
       "1          Individual              107         NETS        1712  2.5  \n",
       "2  Sponsored - no SDF              107       CC JPM        1712  2.0  \n",
       "3    Individual - SFC              107         NETS        1212  2.5  \n",
       "4    Individual - SFC              107         NETS        1712  2.4  "
      ]
     },
     "metadata": {},
     "output_type": "display_data"
    }
   ],
   "source": [
    "# Load the dataset\n",
    "file_path = './Data/Student Profiles.xlsx'\n",
    "data = pd.read_excel(file_path)\n",
    "\n",
    "# Display the first few rows of the dataset to understand its structure\n",
    "display(data.head())"
   ]
  },
  {
   "cell_type": "markdown",
   "metadata": {},
   "source": [
    "## Check For Any Duplicated STUDENT ID Values"
   ]
  },
  {
   "cell_type": "code",
   "execution_count": 283,
   "metadata": {},
   "outputs": [
    {
     "name": "stdout",
     "output_type": "stream",
     "text": [
      "Empty DataFrame\n",
      "Columns: [STUDENT ID, SALUTATION, GENDER, NATIONALITY, LOCAL, FOREIGN, DOB, HIGHEST QUALIFICATION, NAME OF QUALIFICATION AND INSTITUTION, DATE ATTAINED HIGHEST QUALIFICATION, DESIGNATION, INTAKE NO, COMMENCEMENT DATE, COMPLETION DATE, FULL-TIME OR PART-TIME, COURSE FUNDING, REGISTRATION FEE, PAYMENT MODE, COURSE FEE, GPA]\n",
      "Index: []\n",
      "Number of duplicated STUDENT IDs: 0\n"
     ]
    }
   ],
   "source": [
    "# Check for duplicated values in the 'STUDENT ID' column\n",
    "duplicated_values = data[data.duplicated(subset='STUDENT ID')]\n",
    "\n",
    "# Print the duplicated values\n",
    "print(duplicated_values)\n",
    "\n",
    "# Print the number of duplicated values\n",
    "print(f\"Number of duplicated STUDENT IDs: {duplicated_values.shape[0]}\")\n"
   ]
  },
  {
   "cell_type": "markdown",
   "metadata": {},
   "source": [
    "#### **Output Details:**\n",
    "All the Student IDs are unique, indicating that no changes are needed."
   ]
  },
  {
   "cell_type": "markdown",
   "metadata": {},
   "source": [
    "## Data Cleaning for Salutation and Gender\n",
    "\n",
    "After checking, both Salutation and Gender columns appear to be correctly input into the dataset, requiring no cleaning.\n"
   ]
  },
  {
   "cell_type": "markdown",
   "metadata": {},
   "source": [
    "## Clean the Nationality Column and Display the Nationality Column"
   ]
  },
  {
   "cell_type": "code",
   "execution_count": 284,
   "metadata": {},
   "outputs": [
    {
     "name": "stdout",
     "output_type": "stream",
     "text": [
      "Unique Nationalities: ['Singaporean' 'Malaysian(PR)' 'Chinese' 'Malaysian' 'Indian'\n",
      " 'Netherlands' 'Indian(PR)' 'Chinese(PR)' 'Filipino' 'Filipino(PR)'\n",
      " 'Vietnamese' 'Myanmar' 'China(PR)' 'Chinese\\n(China)' 'Indonesian(PR)']\n",
      "Number of Unique Nationalities: 15\n"
     ]
    }
   ],
   "source": [
    "# Clean the 'NATIONALITY' column\n",
    "def clean_nationality(nationality):\n",
    "    # Remove leading/trailing whitespace\n",
    "    nationality = nationality.strip()\n",
    "    \n",
    "    # Standardize the suffixes\n",
    "    nationality = nationality.replace(\" (PR)\", \"(PR)\")\n",
    "    \n",
    "    # Handle inconsistencies\n",
    "    nationality = nationality.replace(\"Indian \", \"Indian\")\n",
    "    nationality = nationality.replace(\"Chinese \", \"Chinese\")\n",
    "    nationality = nationality.replace(\"Malaysian \", \"Malaysian\")\n",
    "    \n",
    "    return nationality\n",
    "\n",
    "# Apply the cleaning function to the 'NATIONALITY' column\n",
    "data['NATIONALITY'] = data['NATIONALITY'].apply(clean_nationality)\n",
    "\n",
    "# Check the cleaned 'NATIONALITY' column\n",
    "unique_nationalities = data['NATIONALITY'].unique()\n",
    "print(\"Unique Nationalities:\", unique_nationalities)\n",
    "print(\"Number of Unique Nationalities:\", len(unique_nationalities))\n"
   ]
  },
  {
   "cell_type": "markdown",
   "metadata": {},
   "source": [
    "#### Changes Made\n",
    "\n",
    "- `'Chinese\\n(China)'` is replaced with `'Chinese'`.\n",
    "- `'China(PR)'` is replaced with `'Chinese(PR)'`.\n"
   ]
  },
  {
   "cell_type": "code",
   "execution_count": 285,
   "metadata": {},
   "outputs": [
    {
     "name": "stdout",
     "output_type": "stream",
     "text": [
      "Unique Nationalities: ['Singaporean' 'Malaysian(PR)' 'Chinese' 'Malaysian' 'Indian'\n",
      " 'Netherlands' 'Indian(PR)' 'Chinese(PR)' 'Filipino' 'Filipino(PR)'\n",
      " 'Vietnamese' 'Myanmar' 'Indonesian(PR)']\n",
      "Number of Unique Nationalities: 13\n"
     ]
    }
   ],
   "source": [
    "# Combine variations in the 'NATIONALITY' column\n",
    "data['NATIONALITY'] = data['NATIONALITY'].replace({\n",
    "    'Chinese\\n(China)': 'Chinese',\n",
    "    'China(PR)': 'Chinese(PR)'\n",
    "})\n",
    "\n",
    "# Check the cleaned 'NATIONALITY' column again\n",
    "unique_nationalities = data['NATIONALITY'].unique()\n",
    "print(\"Unique Nationalities:\", unique_nationalities)\n",
    "print(\"Number of Unique Nationalities:\", len(unique_nationalities))\n"
   ]
  },
  {
   "cell_type": "markdown",
   "metadata": {},
   "source": [
    "## 'Local' and 'Foregin Column Data Cleaning"
   ]
  },
  {
   "cell_type": "code",
   "execution_count": 286,
   "metadata": {},
   "outputs": [],
   "source": [
    "# Replace 'NaN' with empty string ('') in the LOCAL and FOREIGN columns\n",
    "data['LOCAL'].fillna('', inplace=True)\n",
    "data['FOREIGN'].fillna('', inplace=True)"
   ]
  },
  {
   "cell_type": "code",
   "execution_count": 287,
   "metadata": {},
   "outputs": [],
   "source": [
    "# Iterate through each row in the DataFrame\n",
    "for index, row in data.iterrows():\n",
    "    nationality = row['NATIONALITY']\n",
    "    \n",
    "    # Modify LOCAL and FOREIGN columns based on NATIONALITY\n",
    "    if nationality == 'Singaporean':\n",
    "        data.at[index, 'LOCAL'] = 'Y'\n",
    "        data.at[index, 'FOREIGN'] = 'N'\n",
    "    else:\n",
    "        data.at[index, 'LOCAL'] = 'N'\n",
    "        data.at[index, 'FOREIGN'] = 'Y'"
   ]
  },
  {
   "cell_type": "markdown",
   "metadata": {},
   "source": [
    "### Data Transformation\n",
    "\n",
    "1. Replaced 'NaN' with empty strings ('') in the LOCAL and FOREIGN columns.\n",
    "2. Modified LOCAL and FOREIGN columns based on NATIONALITY."
   ]
  },
  {
   "cell_type": "markdown",
   "metadata": {},
   "source": [
    "## Cleaning the 'DOB' Column"
   ]
  },
  {
   "cell_type": "code",
   "execution_count": 288,
   "metadata": {},
   "outputs": [],
   "source": [
    "import pandas as pd\n",
    "import re\n",
    "from datetime import datetime"
   ]
  },
  {
   "cell_type": "code",
   "execution_count": 289,
   "metadata": {},
   "outputs": [
    {
     "name": "stdout",
     "output_type": "stream",
     "text": [
      "Invalid DOB entries:\n",
      "            DOB\n",
      "59  13-Feb-1984\n",
      "60  13-Jul-1987\n",
      "61  15-Jul-1994\n",
      "94   16-07-1991\n",
      "Number of invalid DOB entries: 4\n",
      "Still invalid DOB entries after correction:\n",
      "Empty DataFrame\n",
      "Columns: [DOB]\n",
      "Index: []\n",
      "Number of still invalid DOB entries after correction: 0\n"
     ]
    }
   ],
   "source": [
    "# Define a function to check the date format\n",
    "def is_valid_date(date):\n",
    "    pattern = re.compile(r'\\b\\d{2}/\\d{2}/\\d{4}\\b')\n",
    "    return bool(pattern.match(date))\n",
    "\n",
    "# Function to correct the date format\n",
    "def correct_date_format(date):\n",
    "    try:\n",
    "        return datetime.strptime(date, '%d-%b-%Y').strftime('%d/%m/%Y')\n",
    "    except ValueError:\n",
    "        try:\n",
    "            return datetime.strptime(date, '%d-%m-%Y').strftime('%d/%m/%Y')\n",
    "        except ValueError:\n",
    "            return date\n",
    "\n",
    "# Apply the function to the 'DOB' column to check validity\n",
    "data['DOB_valid'] = data['DOB'].apply(is_valid_date)\n",
    "\n",
    "# Print rows where DOB format is invalid\n",
    "invalid_dob = data[~data['DOB_valid']]\n",
    "print(\"Invalid DOB entries:\")\n",
    "print(invalid_dob[['DOB']])\n",
    "\n",
    "# Count of invalid date formats\n",
    "invalid_count = len(invalid_dob)\n",
    "print(f\"Number of invalid DOB entries: {invalid_count}\")\n",
    "\n",
    "# Correct the date format for invalid entries\n",
    "data.loc[~data['DOB_valid'], 'DOB'] = data.loc[~data['DOB_valid'], 'DOB'].apply(correct_date_format)\n",
    "\n",
    "# Recheck the 'DOB' column to check validity again after corrections\n",
    "data['DOB_valid'] = data['DOB'].apply(is_valid_date)\n",
    "\n",
    "# Print rows where DOB format is still invalid after correction\n",
    "still_invalid_dob = data[~data['DOB_valid']]\n",
    "print(\"Still invalid DOB entries after correction:\")\n",
    "print(still_invalid_dob[['DOB']])\n",
    "\n",
    "# Count of still invalid date formats\n",
    "still_invalid_count = len(still_invalid_dob)\n",
    "print(f\"Number of still invalid DOB entries after correction: {still_invalid_count}\")\n",
    "\n",
    "# Remove the helper column if not needed\n",
    "data.drop(columns=['DOB_valid'], inplace=True)"
   ]
  },
  {
   "cell_type": "markdown",
   "metadata": {},
   "source": [
    "#### Output:\n",
    "\n",
    "#### 4 invalid formatted DOB dates were identified and correctly modified."
   ]
  },
  {
   "cell_type": "markdown",
   "metadata": {},
   "source": [
    "## Cleaning HIGHEST QUALIFICATION column"
   ]
  },
  {
   "cell_type": "code",
   "execution_count": 290,
   "metadata": {},
   "outputs": [
    {
     "name": "stdout",
     "output_type": "stream",
     "text": [
      "['Certificate' 'Degree' 'Diploma' 'Master' 'Graduate Diploma' ' '\n",
      " 'Postgraduate Diploma' 'Postgraduate Diploma/\\nDegree']\n"
     ]
    }
   ],
   "source": [
    "# Print unique values from the 'HIGHEST QUALIFICATION' column\n",
    "unique_values = data['HIGHEST QUALIFICATION'].unique()\n",
    "print(unique_values)\n"
   ]
  },
  {
   "cell_type": "code",
   "execution_count": 291,
   "metadata": {},
   "outputs": [
    {
     "name": "stdout",
     "output_type": "stream",
     "text": [
      "['Certificate' 'Degree' 'Diploma' 'Master' 'Graduate Diploma' 'Unknown'\n",
      " 'Postgraduate Diploma' 'Postgraduate Diploma/Degree']\n"
     ]
    }
   ],
   "source": [
    "import numpy as np\n",
    "\n",
    "# Clean and replace empty strings in 'HIGHEST QUALIFICATION' column\n",
    "data['HIGHEST QUALIFICATION'] = data['HIGHEST QUALIFICATION'].str.strip().str.replace('\\n', '')\n",
    "data['HIGHEST QUALIFICATION'] = data['HIGHEST QUALIFICATION'].replace('', 'Unknown')\n",
    "\n",
    "# Print unique values after cleaning and replacement\n",
    "unique_values = data['HIGHEST QUALIFICATION'].unique()\n",
    "print(unique_values)"
   ]
  },
  {
   "cell_type": "markdown",
   "metadata": {},
   "source": [
    "#### Combine Graduate Diploma, Postgraduate Diploma and Postgraduate Diploma/Degree into A New Category called 'Graduate Diploma' Category"
   ]
  },
  {
   "cell_type": "code",
   "execution_count": 292,
   "metadata": {},
   "outputs": [
    {
     "name": "stdout",
     "output_type": "stream",
     "text": [
      "['Certificate' 'Degree' 'Diploma' 'Master' 'Graduate Diploma' 'Unknown']\n"
     ]
    }
   ],
   "source": [
    "import numpy as np\n",
    "import pandas as pd\n",
    "\n",
    "# Assuming 'data' is your DataFrame containing the 'HIGHEST QUALIFICATION' column\n",
    "\n",
    "# Clean and replace empty strings in 'HIGHEST QUALIFICATION' column\n",
    "data['HIGHEST QUALIFICATION'] = data['HIGHEST QUALIFICATION'].str.strip().replace('', 'Unknown')\n",
    "\n",
    "# Create a mapping dictionary for replacing values\n",
    "qualification_mapping = {\n",
    "    'Graduate Diploma': ['Graduate Diploma', 'Postgraduate Diploma', 'Postgraduate Diploma/Degree']\n",
    "}\n",
    "\n",
    "# Replace values using the mapping dictionary\n",
    "for key, value_list in qualification_mapping.items():\n",
    "    data['HIGHEST QUALIFICATION'].replace(value_list, key, inplace=True)\n",
    "\n",
    "# Print unique values after cleaning and replacement\n",
    "unique_values = data['HIGHEST QUALIFICATION'].unique()\n",
    "print(unique_values)\n"
   ]
  },
  {
   "cell_type": "code",
   "execution_count": 293,
   "metadata": {},
   "outputs": [
    {
     "name": "stdout",
     "output_type": "stream",
     "text": [
      "HIGHEST QUALIFICATION\n",
      "Degree              104\n",
      "Certificate          69\n",
      "Diploma              56\n",
      "Master               11\n",
      "Graduate Diploma      3\n",
      "Unknown               1\n",
      "Name: count, dtype: int64\n"
     ]
    }
   ],
   "source": [
    "# Verify the changes\n",
    "print(data['HIGHEST QUALIFICATION'].value_counts())"
   ]
  },
  {
   "cell_type": "markdown",
   "metadata": {},
   "source": [
    "## Checking 'COMMENCEMENT DATE' and 'COMPLETION DATE' columns"
   ]
  },
  {
   "cell_type": "code",
   "execution_count": 294,
   "metadata": {},
   "outputs": [
    {
     "name": "stdout",
     "output_type": "stream",
     "text": [
      "Missing Values:\n",
      "COMMENCEMENT DATE    0\n",
      "COMPLETION DATE      0\n",
      "dtype: int64\n",
      "No wrongly formatted dates.\n"
     ]
    }
   ],
   "source": [
    "# Check for missing values\n",
    "missing_values = data[['COMMENCEMENT DATE', 'COMPLETION DATE']].isnull().sum()\n",
    "print(\"Missing Values:\")\n",
    "print(missing_values)\n",
    "\n",
    "# Convert to datetime format and suppress errors\n",
    "data['COMMENCEMENT DATE'] = pd.to_datetime(data['COMMENCEMENT DATE'], format='%d/%m/%Y', errors='coerce')\n",
    "data['COMPLETION DATE'] = pd.to_datetime(data['COMPLETION DATE'], format='%d/%m/%Y', errors='coerce')\n",
    "\n",
    "# Check if there were any conversion errors\n",
    "if data['COMMENCEMENT DATE'].isnull().any() or data['COMPLETION DATE'].isnull().any():\n",
    "    print(\"Error in date conversion. Please check the date formats.\")\n",
    "else:\n",
    "    print(\"No wrongly formatted dates.\")"
   ]
  },
  {
   "cell_type": "markdown",
   "metadata": {},
   "source": [
    "## Create a new Column called Age(at course completion)"
   ]
  },
  {
   "cell_type": "code",
   "execution_count": 295,
   "metadata": {},
   "outputs": [],
   "source": [
    "data['DOB'] = pd.to_datetime(data['DOB'], format='%d/%m/%Y')\n",
    "data['COMPLETION DATE'] = pd.to_datetime(data['COMPLETION DATE'], format='%d/%m/%Y')\n",
    "\n",
    "# Assuming 'COMPLETION DATE' and 'DOB' are datetime columns\n",
    "data['Age(at course completion)'] = (data['COMPLETION DATE'] - data['DOB']).dt.days // 365"
   ]
  },
  {
   "cell_type": "markdown",
   "metadata": {},
   "source": [
    "## Check column 'COURSE FUNDING', clean data and permute"
   ]
  },
  {
   "cell_type": "code",
   "execution_count": 296,
   "metadata": {},
   "outputs": [
    {
     "name": "stdout",
     "output_type": "stream",
     "text": [
      "Unique values in 'COURSE FUNDING':\n",
      "Individual - SFC\n",
      "Individual\n",
      "Sponsored - no SDF\n",
      "Sponsored\n",
      "Individual   \n",
      "Individual \n",
      "Individual-SFC\n",
      "Sponsored \n",
      "Individual - waived App Fee\n",
      "Individual - SFC + $1000 SCHOLARSHIP\n",
      "Indivodual\n",
      "Sponsored   \n",
      "Individual  \n",
      "Sponsored  \n",
      "Sponsored-no SDF\n",
      "Indvidual - SFC\n",
      "Sponsored - SDF\n"
     ]
    }
   ],
   "source": [
    "# Assuming 'data' is your DataFrame containing the 'COURSE FUNDING' column\n",
    "unique_values = data['COURSE FUNDING'].unique()\n",
    "\n",
    "print(\"Unique values in 'COURSE FUNDING':\")\n",
    "for value in unique_values:\n",
    "    print(value)"
   ]
  },
  {
   "cell_type": "code",
   "execution_count": 297,
   "metadata": {},
   "outputs": [
    {
     "name": "stdout",
     "output_type": "stream",
     "text": [
      "Unique values in 'COURSE FUNDING' after replacement:\n",
      "Individual - SFC\n",
      "Individual\n",
      "Sponsored\n",
      "Individual   \n",
      "Individual \n",
      "Sponsored \n",
      "Sponsored   \n",
      "Individual  \n",
      "Sponsored  \n",
      "Sponsored - SDF\n"
     ]
    }
   ],
   "source": [
    "# Define a dictionary for replacements\n",
    "replacements = {\n",
    "    'Individual': 'Individual',\n",
    "    'Individual - waived App Fee': 'Individual',\n",
    "    'Indivodual': 'Individual',\n",
    "    'Individual - SFC': 'Individual - SFC',\n",
    "    'Individual-SFC': 'Individual - SFC',\n",
    "    'Individual - SFC + $1000 SCHOLARSHIP': 'Individual - SFC',\n",
    "    'Indvidual - SFC': 'Individual - SFC',\n",
    "    'Sponsored - no SDF': 'Sponsored',\n",
    "    'Sponsored': 'Sponsored',\n",
    "    'Sponsored-no SDF': 'Sponsored'\n",
    "}\n",
    "\n",
    "# Apply the replacements to the 'COURSE FUNDING' column\n",
    "data['COURSE FUNDING'] = data['COURSE FUNDING'].replace(replacements)\n",
    "\n",
    "# Display the unique values after replacement to verify the changes\n",
    "unique_values_after_replacement = data['COURSE FUNDING'].unique()\n",
    "\n",
    "print(\"Unique values in 'COURSE FUNDING' after replacement:\")\n",
    "for value in unique_values_after_replacement:\n",
    "    print(value)"
   ]
  },
  {
   "cell_type": "code",
   "execution_count": 298,
   "metadata": {},
   "outputs": [
    {
     "name": "stdout",
     "output_type": "stream",
     "text": [
      "Unique values in 'COURSE FUNDING' after replacement:\n",
      "Individual - SFC\n",
      "Individual\n",
      "Sponsored\n",
      "Sponsored - Sdf\n"
     ]
    }
   ],
   "source": [
    "# Define a function to clean and standardize the 'COURSE FUNDING' values\n",
    "def clean_course_funding(value):\n",
    "    value = value.strip().lower()  # Remove leading/trailing spaces and convert to lowercase\n",
    "    if value in ['individual', 'individual - waived app fee', 'indivodual']:\n",
    "        return 'Individual'\n",
    "    elif value in ['individual - sfc', 'individual-sfc', 'individual - sfc + $1000 scholarship', 'indvidual - sfc']:\n",
    "        return 'Individual - SFC'\n",
    "    elif value in ['sponsored', 'sponsored - no sdf', 'sponsored-no sdf']:\n",
    "        return 'Sponsored'\n",
    "    else:\n",
    "        return value.title()  # Capitalize for consistency\n",
    "\n",
    "# Apply the cleaning function to the 'COURSE FUNDING' column\n",
    "data['COURSE FUNDING'] = data['COURSE FUNDING'].apply(clean_course_funding)\n",
    "\n",
    "# Display the unique values after replacement to verify the changes\n",
    "unique_values_after_replacement = data['COURSE FUNDING'].unique()\n",
    "\n",
    "print(\"Unique values in 'COURSE FUNDING' after replacement:\")\n",
    "for value in unique_values_after_replacement:\n",
    "    print(value)"
   ]
  },
  {
   "cell_type": "markdown",
   "metadata": {},
   "source": [
    "## Create a new column called COURSE NAME, AND COURSE CODE"
   ]
  },
  {
   "cell_type": "code",
   "execution_count": 299,
   "metadata": {},
   "outputs": [],
   "source": [
    "df_courseCodes = pd.read_excel(\"./Data/Course Codes.xlsx\")"
   ]
  },
  {
   "cell_type": "code",
   "execution_count": 300,
   "metadata": {},
   "outputs": [],
   "source": [
    "# Example df_courseCodes setup (replace with your actual df_courseCodes loading)\n",
    "df_courseCodes = pd.DataFrame({\n",
    "    'CourseCode': ['1101', '1102', '2101', '2102', '2013', '5112', '5113'],\n",
    "    'CourseName': [\n",
    "        'Diploma in Business Administration',\n",
    "        'Diploma in Business Analytics',\n",
    "        'Certificate in HR Management',\n",
    "        'Certificate in Digital Marketing',\n",
    "        'Certificate in Tourism Management',\n",
    "        'Bachelor of Business Administration',\n",
    "        'Master of Business Administration'\n",
    "    ]\n",
    "})\n",
    "\n",
    "# Extract course code from 'STUDENT ID' column\n",
    "data['CourseCode'] = data['STUDENT ID'].str.extract(r'/(\\d+)-')\n",
    "\n",
    "# Merge data with df_courseCodes based on 'CourseCode' directly into 'data'\n",
    "data = pd.merge(data, df_courseCodes, on='CourseCode', how='left')\n",
    "\n",
    "# # Check the updated data dataframe with course names\n",
    "# print(data)"
   ]
  },
  {
   "cell_type": "code",
   "execution_count": 301,
   "metadata": {},
   "outputs": [],
   "source": [
    "# # Specify the file path where you want to save the Excel file\n",
    "# excel_file_path = r'C:\\Users\\lhchu\\OneDrive\\Desktop\\DAAA (SP)2A03\\DAVI\\CA2\\Data\\data_export.xlsx'\n",
    "\n",
    "# # Export the DataFrame to Excel\n",
    "# data.to_excel(excel_file_path, index=False)\n",
    "\n",
    "# print(f\"DataFrame successfully exported to Excel file: {excel_file_path}\")"
   ]
  },
  {
   "cell_type": "code",
   "execution_count": 302,
   "metadata": {},
   "outputs": [],
   "source": [
    "# from IPython.display import display\n",
    "\n",
    "# # Assuming 'data' is your DataFrame\n",
    "# # Set display options to show all rows\n",
    "# pd.set_option('display.max_rows', None)  # Show all rows\n",
    "\n",
    "# # Display the DataFrame\n",
    "# display(data)"
   ]
  },
  {
   "cell_type": "markdown",
   "metadata": {},
   "source": [
    "## Plotly Data Analysis"
   ]
  },
  {
   "cell_type": "markdown",
   "metadata": {},
   "source": [
    "#### Sunburst chart to see relationship between Nationaility and (Highest Qualification and Age)"
   ]
  },
  {
   "cell_type": "code",
   "execution_count": 90,
   "metadata": {},
   "outputs": [
    {
     "data": {
      "application/vnd.plotly.v1+json": {
       "config": {
        "plotlyServerURL": "https://plot.ly"
       },
       "data": [
        {
         "branchvalues": "total",
         "customdata": [
          [
           0.4098360655737705
          ],
          [
           3.278688524590164
          ],
          [
           1.639344262295082
          ],
          [
           22.950819672131146
          ],
          [
           0.819672131147541
          ],
          [
           1.2295081967213115
          ],
          [
           2.459016393442623
          ],
          [
           0.4098360655737705
          ],
          [
           0.819672131147541
          ],
          [
           1.2295081967213115
          ],
          [
           0.4098360655737705
          ],
          [
           3.6885245901639343
          ],
          [
           0.4098360655737705
          ],
          [
           31.147540983606557
          ],
          [
           0.4098360655737705
          ],
          [
           0.4098360655737705
          ],
          [
           0.819672131147541
          ],
          [
           0.4098360655737705
          ],
          [
           0.4098360655737705
          ],
          [
           20.491803278688526
          ],
          [
           1.2295081967213115
          ],
          [
           0.4098360655737705
          ],
          [
           0.4098360655737705
          ],
          [
           1.2295081967213115
          ],
          [
           0.819672131147541
          ],
          [
           1.639344262295082
          ],
          [
           0.4098360655737705
          ],
          [
           "(?)"
          ],
          [
           "(?)"
          ],
          [
           2.459016393442623
          ],
          [
           0.4098360655737705
          ],
          [
           "(?)"
          ],
          [
           "(?)"
          ],
          [
           0.4098360655737705
          ],
          [
           "(?)"
          ],
          [
           "(?)"
          ],
          [
           0.4098360655737705
          ],
          [
           0.4098360655737705
          ],
          [
           "(?)"
          ],
          [
           0.4098360655737705
          ]
         ],
         "domain": {
          "x": [
           0,
           1
          ],
          "y": [
           0,
           1
          ]
         },
         "hovertemplate": "%{label}<br>Count: %{value}<br>Percentage: %{customdata:.2f}%<extra></extra>",
         "ids": [
          "Chinese(PR)/Certificate",
          "Malaysian/Certificate",
          "Malaysian(PR)/Certificate",
          "Singaporean/Certificate",
          "Chinese/Degree",
          "Chinese(PR)/Degree",
          "Filipino/Degree",
          "Filipino(PR)/Degree",
          "Indian/Degree",
          "Indian(PR)/Degree",
          "Indonesian(PR)/Degree",
          "Malaysian(PR)/Degree",
          "Myanmar/Degree",
          "Singaporean/Degree",
          "Chinese(PR)/Diploma",
          "Malaysian/Diploma",
          "Malaysian(PR)/Diploma",
          "Myanmar/Diploma",
          "Netherlands/Diploma",
          "Singaporean/Diploma",
          "Singaporean/Graduate Diploma",
          "Chinese/Master",
          "Chinese(PR)/Master",
          "Indian/Master",
          "Indian(PR)/Master",
          "Singaporean/Master",
          "Vietnamese/Unknown",
          "Chinese",
          "Chinese(PR)",
          "Filipino",
          "Filipino(PR)",
          "Indian",
          "Indian(PR)",
          "Indonesian(PR)",
          "Malaysian",
          "Malaysian(PR)",
          "Myanmar",
          "Netherlands",
          "Singaporean",
          "Vietnamese"
         ],
         "labels": [
          "Certificate",
          "Certificate",
          "Certificate",
          "Certificate",
          "Degree",
          "Degree",
          "Degree",
          "Degree",
          "Degree",
          "Degree",
          "Degree",
          "Degree",
          "Degree",
          "Degree",
          "Diploma",
          "Diploma",
          "Diploma",
          "Diploma",
          "Diploma",
          "Diploma",
          "Graduate Diploma",
          "Master",
          "Master",
          "Master",
          "Master",
          "Master",
          "Unknown",
          "Chinese",
          "Chinese(PR)",
          "Filipino",
          "Filipino(PR)",
          "Indian",
          "Indian(PR)",
          "Indonesian(PR)",
          "Malaysian",
          "Malaysian(PR)",
          "Myanmar",
          "Netherlands",
          "Singaporean",
          "Vietnamese"
         ],
         "name": "",
         "parents": [
          "Chinese(PR)",
          "Malaysian",
          "Malaysian(PR)",
          "Singaporean",
          "Chinese",
          "Chinese(PR)",
          "Filipino",
          "Filipino(PR)",
          "Indian",
          "Indian(PR)",
          "Indonesian(PR)",
          "Malaysian(PR)",
          "Myanmar",
          "Singaporean",
          "Chinese(PR)",
          "Malaysian",
          "Malaysian(PR)",
          "Myanmar",
          "Netherlands",
          "Singaporean",
          "Singaporean",
          "Chinese",
          "Chinese(PR)",
          "Indian",
          "Indian(PR)",
          "Singaporean",
          "Vietnamese",
          "",
          "",
          "",
          "",
          "",
          "",
          "",
          "",
          "",
          "",
          "",
          "",
          ""
         ],
         "type": "sunburst",
         "values": [
          1,
          8,
          4,
          56,
          2,
          3,
          6,
          1,
          2,
          3,
          1,
          9,
          1,
          76,
          1,
          1,
          2,
          1,
          1,
          50,
          3,
          1,
          1,
          3,
          2,
          4,
          1,
          3,
          6,
          6,
          1,
          5,
          5,
          1,
          9,
          15,
          2,
          1,
          189,
          1
         ]
        }
       ],
       "layout": {
        "font": {
         "size": 14
        },
        "height": 800,
        "legend": {
         "tracegroupgap": 0
        },
        "margin": {
         "b": 40,
         "l": 40,
         "r": 40,
         "t": 40
        },
        "template": {
         "data": {
          "bar": [
           {
            "error_x": {
             "color": "#2a3f5f"
            },
            "error_y": {
             "color": "#2a3f5f"
            },
            "marker": {
             "line": {
              "color": "#E5ECF6",
              "width": 0.5
             },
             "pattern": {
              "fillmode": "overlay",
              "size": 10,
              "solidity": 0.2
             }
            },
            "type": "bar"
           }
          ],
          "barpolar": [
           {
            "marker": {
             "line": {
              "color": "#E5ECF6",
              "width": 0.5
             },
             "pattern": {
              "fillmode": "overlay",
              "size": 10,
              "solidity": 0.2
             }
            },
            "type": "barpolar"
           }
          ],
          "carpet": [
           {
            "aaxis": {
             "endlinecolor": "#2a3f5f",
             "gridcolor": "white",
             "linecolor": "white",
             "minorgridcolor": "white",
             "startlinecolor": "#2a3f5f"
            },
            "baxis": {
             "endlinecolor": "#2a3f5f",
             "gridcolor": "white",
             "linecolor": "white",
             "minorgridcolor": "white",
             "startlinecolor": "#2a3f5f"
            },
            "type": "carpet"
           }
          ],
          "choropleth": [
           {
            "colorbar": {
             "outlinewidth": 0,
             "ticks": ""
            },
            "type": "choropleth"
           }
          ],
          "contour": [
           {
            "colorbar": {
             "outlinewidth": 0,
             "ticks": ""
            },
            "colorscale": [
             [
              0,
              "#0d0887"
             ],
             [
              0.1111111111111111,
              "#46039f"
             ],
             [
              0.2222222222222222,
              "#7201a8"
             ],
             [
              0.3333333333333333,
              "#9c179e"
             ],
             [
              0.4444444444444444,
              "#bd3786"
             ],
             [
              0.5555555555555556,
              "#d8576b"
             ],
             [
              0.6666666666666666,
              "#ed7953"
             ],
             [
              0.7777777777777778,
              "#fb9f3a"
             ],
             [
              0.8888888888888888,
              "#fdca26"
             ],
             [
              1,
              "#f0f921"
             ]
            ],
            "type": "contour"
           }
          ],
          "contourcarpet": [
           {
            "colorbar": {
             "outlinewidth": 0,
             "ticks": ""
            },
            "type": "contourcarpet"
           }
          ],
          "heatmap": [
           {
            "colorbar": {
             "outlinewidth": 0,
             "ticks": ""
            },
            "colorscale": [
             [
              0,
              "#0d0887"
             ],
             [
              0.1111111111111111,
              "#46039f"
             ],
             [
              0.2222222222222222,
              "#7201a8"
             ],
             [
              0.3333333333333333,
              "#9c179e"
             ],
             [
              0.4444444444444444,
              "#bd3786"
             ],
             [
              0.5555555555555556,
              "#d8576b"
             ],
             [
              0.6666666666666666,
              "#ed7953"
             ],
             [
              0.7777777777777778,
              "#fb9f3a"
             ],
             [
              0.8888888888888888,
              "#fdca26"
             ],
             [
              1,
              "#f0f921"
             ]
            ],
            "type": "heatmap"
           }
          ],
          "heatmapgl": [
           {
            "colorbar": {
             "outlinewidth": 0,
             "ticks": ""
            },
            "colorscale": [
             [
              0,
              "#0d0887"
             ],
             [
              0.1111111111111111,
              "#46039f"
             ],
             [
              0.2222222222222222,
              "#7201a8"
             ],
             [
              0.3333333333333333,
              "#9c179e"
             ],
             [
              0.4444444444444444,
              "#bd3786"
             ],
             [
              0.5555555555555556,
              "#d8576b"
             ],
             [
              0.6666666666666666,
              "#ed7953"
             ],
             [
              0.7777777777777778,
              "#fb9f3a"
             ],
             [
              0.8888888888888888,
              "#fdca26"
             ],
             [
              1,
              "#f0f921"
             ]
            ],
            "type": "heatmapgl"
           }
          ],
          "histogram": [
           {
            "marker": {
             "pattern": {
              "fillmode": "overlay",
              "size": 10,
              "solidity": 0.2
             }
            },
            "type": "histogram"
           }
          ],
          "histogram2d": [
           {
            "colorbar": {
             "outlinewidth": 0,
             "ticks": ""
            },
            "colorscale": [
             [
              0,
              "#0d0887"
             ],
             [
              0.1111111111111111,
              "#46039f"
             ],
             [
              0.2222222222222222,
              "#7201a8"
             ],
             [
              0.3333333333333333,
              "#9c179e"
             ],
             [
              0.4444444444444444,
              "#bd3786"
             ],
             [
              0.5555555555555556,
              "#d8576b"
             ],
             [
              0.6666666666666666,
              "#ed7953"
             ],
             [
              0.7777777777777778,
              "#fb9f3a"
             ],
             [
              0.8888888888888888,
              "#fdca26"
             ],
             [
              1,
              "#f0f921"
             ]
            ],
            "type": "histogram2d"
           }
          ],
          "histogram2dcontour": [
           {
            "colorbar": {
             "outlinewidth": 0,
             "ticks": ""
            },
            "colorscale": [
             [
              0,
              "#0d0887"
             ],
             [
              0.1111111111111111,
              "#46039f"
             ],
             [
              0.2222222222222222,
              "#7201a8"
             ],
             [
              0.3333333333333333,
              "#9c179e"
             ],
             [
              0.4444444444444444,
              "#bd3786"
             ],
             [
              0.5555555555555556,
              "#d8576b"
             ],
             [
              0.6666666666666666,
              "#ed7953"
             ],
             [
              0.7777777777777778,
              "#fb9f3a"
             ],
             [
              0.8888888888888888,
              "#fdca26"
             ],
             [
              1,
              "#f0f921"
             ]
            ],
            "type": "histogram2dcontour"
           }
          ],
          "mesh3d": [
           {
            "colorbar": {
             "outlinewidth": 0,
             "ticks": ""
            },
            "type": "mesh3d"
           }
          ],
          "parcoords": [
           {
            "line": {
             "colorbar": {
              "outlinewidth": 0,
              "ticks": ""
             }
            },
            "type": "parcoords"
           }
          ],
          "pie": [
           {
            "automargin": true,
            "type": "pie"
           }
          ],
          "scatter": [
           {
            "fillpattern": {
             "fillmode": "overlay",
             "size": 10,
             "solidity": 0.2
            },
            "type": "scatter"
           }
          ],
          "scatter3d": [
           {
            "line": {
             "colorbar": {
              "outlinewidth": 0,
              "ticks": ""
             }
            },
            "marker": {
             "colorbar": {
              "outlinewidth": 0,
              "ticks": ""
             }
            },
            "type": "scatter3d"
           }
          ],
          "scattercarpet": [
           {
            "marker": {
             "colorbar": {
              "outlinewidth": 0,
              "ticks": ""
             }
            },
            "type": "scattercarpet"
           }
          ],
          "scattergeo": [
           {
            "marker": {
             "colorbar": {
              "outlinewidth": 0,
              "ticks": ""
             }
            },
            "type": "scattergeo"
           }
          ],
          "scattergl": [
           {
            "marker": {
             "colorbar": {
              "outlinewidth": 0,
              "ticks": ""
             }
            },
            "type": "scattergl"
           }
          ],
          "scattermapbox": [
           {
            "marker": {
             "colorbar": {
              "outlinewidth": 0,
              "ticks": ""
             }
            },
            "type": "scattermapbox"
           }
          ],
          "scatterpolar": [
           {
            "marker": {
             "colorbar": {
              "outlinewidth": 0,
              "ticks": ""
             }
            },
            "type": "scatterpolar"
           }
          ],
          "scatterpolargl": [
           {
            "marker": {
             "colorbar": {
              "outlinewidth": 0,
              "ticks": ""
             }
            },
            "type": "scatterpolargl"
           }
          ],
          "scatterternary": [
           {
            "marker": {
             "colorbar": {
              "outlinewidth": 0,
              "ticks": ""
             }
            },
            "type": "scatterternary"
           }
          ],
          "surface": [
           {
            "colorbar": {
             "outlinewidth": 0,
             "ticks": ""
            },
            "colorscale": [
             [
              0,
              "#0d0887"
             ],
             [
              0.1111111111111111,
              "#46039f"
             ],
             [
              0.2222222222222222,
              "#7201a8"
             ],
             [
              0.3333333333333333,
              "#9c179e"
             ],
             [
              0.4444444444444444,
              "#bd3786"
             ],
             [
              0.5555555555555556,
              "#d8576b"
             ],
             [
              0.6666666666666666,
              "#ed7953"
             ],
             [
              0.7777777777777778,
              "#fb9f3a"
             ],
             [
              0.8888888888888888,
              "#fdca26"
             ],
             [
              1,
              "#f0f921"
             ]
            ],
            "type": "surface"
           }
          ],
          "table": [
           {
            "cells": {
             "fill": {
              "color": "#EBF0F8"
             },
             "line": {
              "color": "white"
             }
            },
            "header": {
             "fill": {
              "color": "#C8D4E3"
             },
             "line": {
              "color": "white"
             }
            },
            "type": "table"
           }
          ]
         },
         "layout": {
          "annotationdefaults": {
           "arrowcolor": "#2a3f5f",
           "arrowhead": 0,
           "arrowwidth": 1
          },
          "autotypenumbers": "strict",
          "coloraxis": {
           "colorbar": {
            "outlinewidth": 0,
            "ticks": ""
           }
          },
          "colorscale": {
           "diverging": [
            [
             0,
             "#8e0152"
            ],
            [
             0.1,
             "#c51b7d"
            ],
            [
             0.2,
             "#de77ae"
            ],
            [
             0.3,
             "#f1b6da"
            ],
            [
             0.4,
             "#fde0ef"
            ],
            [
             0.5,
             "#f7f7f7"
            ],
            [
             0.6,
             "#e6f5d0"
            ],
            [
             0.7,
             "#b8e186"
            ],
            [
             0.8,
             "#7fbc41"
            ],
            [
             0.9,
             "#4d9221"
            ],
            [
             1,
             "#276419"
            ]
           ],
           "sequential": [
            [
             0,
             "#0d0887"
            ],
            [
             0.1111111111111111,
             "#46039f"
            ],
            [
             0.2222222222222222,
             "#7201a8"
            ],
            [
             0.3333333333333333,
             "#9c179e"
            ],
            [
             0.4444444444444444,
             "#bd3786"
            ],
            [
             0.5555555555555556,
             "#d8576b"
            ],
            [
             0.6666666666666666,
             "#ed7953"
            ],
            [
             0.7777777777777778,
             "#fb9f3a"
            ],
            [
             0.8888888888888888,
             "#fdca26"
            ],
            [
             1,
             "#f0f921"
            ]
           ],
           "sequentialminus": [
            [
             0,
             "#0d0887"
            ],
            [
             0.1111111111111111,
             "#46039f"
            ],
            [
             0.2222222222222222,
             "#7201a8"
            ],
            [
             0.3333333333333333,
             "#9c179e"
            ],
            [
             0.4444444444444444,
             "#bd3786"
            ],
            [
             0.5555555555555556,
             "#d8576b"
            ],
            [
             0.6666666666666666,
             "#ed7953"
            ],
            [
             0.7777777777777778,
             "#fb9f3a"
            ],
            [
             0.8888888888888888,
             "#fdca26"
            ],
            [
             1,
             "#f0f921"
            ]
           ]
          },
          "colorway": [
           "#636efa",
           "#EF553B",
           "#00cc96",
           "#ab63fa",
           "#FFA15A",
           "#19d3f3",
           "#FF6692",
           "#B6E880",
           "#FF97FF",
           "#FECB52"
          ],
          "font": {
           "color": "#2a3f5f"
          },
          "geo": {
           "bgcolor": "white",
           "lakecolor": "white",
           "landcolor": "#E5ECF6",
           "showlakes": true,
           "showland": true,
           "subunitcolor": "white"
          },
          "hoverlabel": {
           "align": "left"
          },
          "hovermode": "closest",
          "mapbox": {
           "style": "light"
          },
          "paper_bgcolor": "white",
          "plot_bgcolor": "#E5ECF6",
          "polar": {
           "angularaxis": {
            "gridcolor": "white",
            "linecolor": "white",
            "ticks": ""
           },
           "bgcolor": "#E5ECF6",
           "radialaxis": {
            "gridcolor": "white",
            "linecolor": "white",
            "ticks": ""
           }
          },
          "scene": {
           "xaxis": {
            "backgroundcolor": "#E5ECF6",
            "gridcolor": "white",
            "gridwidth": 2,
            "linecolor": "white",
            "showbackground": true,
            "ticks": "",
            "zerolinecolor": "white"
           },
           "yaxis": {
            "backgroundcolor": "#E5ECF6",
            "gridcolor": "white",
            "gridwidth": 2,
            "linecolor": "white",
            "showbackground": true,
            "ticks": "",
            "zerolinecolor": "white"
           },
           "zaxis": {
            "backgroundcolor": "#E5ECF6",
            "gridcolor": "white",
            "gridwidth": 2,
            "linecolor": "white",
            "showbackground": true,
            "ticks": "",
            "zerolinecolor": "white"
           }
          },
          "shapedefaults": {
           "line": {
            "color": "#2a3f5f"
           }
          },
          "ternary": {
           "aaxis": {
            "gridcolor": "white",
            "linecolor": "white",
            "ticks": ""
           },
           "baxis": {
            "gridcolor": "white",
            "linecolor": "white",
            "ticks": ""
           },
           "bgcolor": "#E5ECF6",
           "caxis": {
            "gridcolor": "white",
            "linecolor": "white",
            "ticks": ""
           }
          },
          "title": {
           "x": 0.05
          },
          "xaxis": {
           "automargin": true,
           "gridcolor": "white",
           "linecolor": "white",
           "ticks": "",
           "title": {
            "standoff": 15
           },
           "zerolinecolor": "white",
           "zerolinewidth": 2
          },
          "yaxis": {
           "automargin": true,
           "gridcolor": "white",
           "linecolor": "white",
           "ticks": "",
           "title": {
            "standoff": 15
           },
           "zerolinecolor": "white",
           "zerolinewidth": 2
          }
         }
        },
        "title": {
         "text": "Sunburst Chart: Highest Qualification by Nationality"
        },
        "width": 1000
       }
      }
     },
     "metadata": {},
     "output_type": "display_data"
    }
   ],
   "source": [
    "import plotly.express as px\n",
    "import pandas as pd\n",
    "\n",
    "# Load data\n",
    "data = pd.read_excel('./Data/data_export.xlsx')\n",
    "\n",
    "# Strip any leading or trailing whitespace characters from column names\n",
    "data.columns = data.columns.str.strip()\n",
    "\n",
    "# Group by Nationality and Highest Qualification and count occurrences\n",
    "grouped_data = data.groupby(['NATIONALITY', 'HIGHEST QUALIFICATION']).size().reset_index(name='Count')\n",
    "\n",
    "# Calculate total counts for percentages\n",
    "total_count = grouped_data['Count'].sum()\n",
    "\n",
    "# Calculate percentages\n",
    "grouped_data['Percentage'] = (grouped_data['Count'] / total_count) * 100\n",
    "\n",
    "# Create the Sunburst chart with percentages in hover data\n",
    "fig = px.sunburst(\n",
    "    grouped_data,\n",
    "    path=['NATIONALITY', 'HIGHEST QUALIFICATION'],\n",
    "    values='Count',\n",
    "    title='Sunburst Chart: Highest Qualification by Nationality',\n",
    "    labels={'NATIONALITY': 'Nationality', 'HIGHEST QUALIFICATION': 'Highest Qualification', 'Count': 'Count'},\n",
    "    hover_data={'Percentage': True}  # Include percentage in hover data\n",
    ")\n",
    "\n",
    "# Update the hover template to include percentages\n",
    "fig.update_traces(\n",
    "    hovertemplate='%{label}<br>Count: %{value}<br>Percentage: %{customdata:.2f}%<extra></extra>'\n",
    ")\n",
    "\n",
    "# Update layout\n",
    "fig.update_layout(\n",
    "    width=1000,\n",
    "    height=800,\n",
    "    margin=dict(l=40, r=40, t=40, b=40),\n",
    "    font=dict(size=14)\n",
    ")\n",
    "\n",
    "# Show the figure\n",
    "fig.show()\n"
   ]
  },
  {
   "cell_type": "markdown",
   "metadata": {},
   "source": [
    "### Insights for Sunburst Chart: Highest Qualification by Nationality\n",
    "\n",
    "- **Distribution of Qualifications**: The chart shows that certain nationalities, such as those in the \"Singaporean\" and \"Malaysian\" categories, have a higher representation in advanced qualifications like Bachelor's and Master's degrees. This indicates a trend of higher education levels within these nationalities.\n",
    "- **Proportional Representation**: Hovering over the segments, it is evident that a significant portion of the \"Singaporean\" population holds at least a Bachelor's degree, with a noticeable percentage also holding Master's degrees. For the \"Malaysian\" group, there is a similar trend with a high percentage in Bachelor's degrees and some representation in higher qualifications.\n",
    "- **Predominant Qualifications**: The largest segments in the sunburst chart highlight that Bachelor's degrees are the most common highest qualifications among both \"Singaporean\" and \"Malaysian\" nationalities. This shows that Bachelor's degrees are the prevalent educational achievement within the dataset for these groups.\n"
   ]
  },
  {
   "cell_type": "markdown",
   "metadata": {},
   "source": [
    "## Grouped Bar Chart on Local/Foreign Students vs their Funding type"
   ]
  },
  {
   "cell_type": "code",
   "execution_count": 88,
   "metadata": {},
   "outputs": [
    {
     "data": {
      "application/vnd.plotly.v1+json": {
       "config": {
        "plotlyServerURL": "https://plot.ly"
       },
       "data": [
        {
         "alignmentgroup": "True",
         "hovertemplate": "Course Funding=Individual<br>Nationality Group=%{x}<br>Count=%{y}<extra></extra>",
         "legendgroup": "Individual",
         "marker": {
          "color": "#636efa",
          "pattern": {
           "shape": ""
          }
         },
         "name": "Individual",
         "offsetgroup": "Individual",
         "orientation": "v",
         "showlegend": true,
         "textposition": "auto",
         "type": "bar",
         "x": [
          "FOREIGN",
          "FOREIGN (PR)",
          "LOCAL"
         ],
         "xaxis": "x",
         "y": [
          21,
          16,
          92
         ],
         "yaxis": "y"
        },
        {
         "alignmentgroup": "True",
         "hovertemplate": "Course Funding=Sponsored<br>Nationality Group=%{x}<br>Count=%{y}<extra></extra>",
         "legendgroup": "Sponsored",
         "marker": {
          "color": "#EF553B",
          "pattern": {
           "shape": ""
          }
         },
         "name": "Sponsored",
         "offsetgroup": "Sponsored",
         "orientation": "v",
         "showlegend": true,
         "textposition": "auto",
         "type": "bar",
         "x": [
          "FOREIGN",
          "FOREIGN (PR)",
          "LOCAL"
         ],
         "xaxis": "x",
         "y": [
          6,
          9,
          31
         ],
         "yaxis": "y"
        },
        {
         "alignmentgroup": "True",
         "hovertemplate": "Course Funding=Individual - SFC<br>Nationality Group=%{x}<br>Count=%{y}<extra></extra>",
         "legendgroup": "Individual - SFC",
         "marker": {
          "color": "#00cc96",
          "pattern": {
           "shape": ""
          }
         },
         "name": "Individual - SFC",
         "offsetgroup": "Individual - SFC",
         "orientation": "v",
         "showlegend": true,
         "textposition": "auto",
         "type": "bar",
         "x": [
          "FOREIGN (PR)",
          "LOCAL"
         ],
         "xaxis": "x",
         "y": [
          2,
          64
         ],
         "yaxis": "y"
        },
        {
         "alignmentgroup": "True",
         "hovertemplate": "Course Funding=Sponsored - Sdf<br>Nationality Group=%{x}<br>Count=%{y}<extra></extra>",
         "legendgroup": "Sponsored - Sdf",
         "marker": {
          "color": "#ab63fa",
          "pattern": {
           "shape": ""
          }
         },
         "name": "Sponsored - Sdf",
         "offsetgroup": "Sponsored - Sdf",
         "orientation": "v",
         "showlegend": true,
         "textposition": "auto",
         "type": "bar",
         "x": [
          "FOREIGN (PR)",
          "LOCAL"
         ],
         "xaxis": "x",
         "y": [
          1,
          2
         ],
         "yaxis": "y"
        }
       ],
       "layout": {
        "barmode": "group",
        "font": {
         "size": 14
        },
        "height": 600,
        "legend": {
         "title": {
          "text": "Course Funding"
         },
         "tracegroupgap": 0
        },
        "template": {
         "data": {
          "bar": [
           {
            "error_x": {
             "color": "#2a3f5f"
            },
            "error_y": {
             "color": "#2a3f5f"
            },
            "marker": {
             "line": {
              "color": "#E5ECF6",
              "width": 0.5
             },
             "pattern": {
              "fillmode": "overlay",
              "size": 10,
              "solidity": 0.2
             }
            },
            "type": "bar"
           }
          ],
          "barpolar": [
           {
            "marker": {
             "line": {
              "color": "#E5ECF6",
              "width": 0.5
             },
             "pattern": {
              "fillmode": "overlay",
              "size": 10,
              "solidity": 0.2
             }
            },
            "type": "barpolar"
           }
          ],
          "carpet": [
           {
            "aaxis": {
             "endlinecolor": "#2a3f5f",
             "gridcolor": "white",
             "linecolor": "white",
             "minorgridcolor": "white",
             "startlinecolor": "#2a3f5f"
            },
            "baxis": {
             "endlinecolor": "#2a3f5f",
             "gridcolor": "white",
             "linecolor": "white",
             "minorgridcolor": "white",
             "startlinecolor": "#2a3f5f"
            },
            "type": "carpet"
           }
          ],
          "choropleth": [
           {
            "colorbar": {
             "outlinewidth": 0,
             "ticks": ""
            },
            "type": "choropleth"
           }
          ],
          "contour": [
           {
            "colorbar": {
             "outlinewidth": 0,
             "ticks": ""
            },
            "colorscale": [
             [
              0,
              "#0d0887"
             ],
             [
              0.1111111111111111,
              "#46039f"
             ],
             [
              0.2222222222222222,
              "#7201a8"
             ],
             [
              0.3333333333333333,
              "#9c179e"
             ],
             [
              0.4444444444444444,
              "#bd3786"
             ],
             [
              0.5555555555555556,
              "#d8576b"
             ],
             [
              0.6666666666666666,
              "#ed7953"
             ],
             [
              0.7777777777777778,
              "#fb9f3a"
             ],
             [
              0.8888888888888888,
              "#fdca26"
             ],
             [
              1,
              "#f0f921"
             ]
            ],
            "type": "contour"
           }
          ],
          "contourcarpet": [
           {
            "colorbar": {
             "outlinewidth": 0,
             "ticks": ""
            },
            "type": "contourcarpet"
           }
          ],
          "heatmap": [
           {
            "colorbar": {
             "outlinewidth": 0,
             "ticks": ""
            },
            "colorscale": [
             [
              0,
              "#0d0887"
             ],
             [
              0.1111111111111111,
              "#46039f"
             ],
             [
              0.2222222222222222,
              "#7201a8"
             ],
             [
              0.3333333333333333,
              "#9c179e"
             ],
             [
              0.4444444444444444,
              "#bd3786"
             ],
             [
              0.5555555555555556,
              "#d8576b"
             ],
             [
              0.6666666666666666,
              "#ed7953"
             ],
             [
              0.7777777777777778,
              "#fb9f3a"
             ],
             [
              0.8888888888888888,
              "#fdca26"
             ],
             [
              1,
              "#f0f921"
             ]
            ],
            "type": "heatmap"
           }
          ],
          "heatmapgl": [
           {
            "colorbar": {
             "outlinewidth": 0,
             "ticks": ""
            },
            "colorscale": [
             [
              0,
              "#0d0887"
             ],
             [
              0.1111111111111111,
              "#46039f"
             ],
             [
              0.2222222222222222,
              "#7201a8"
             ],
             [
              0.3333333333333333,
              "#9c179e"
             ],
             [
              0.4444444444444444,
              "#bd3786"
             ],
             [
              0.5555555555555556,
              "#d8576b"
             ],
             [
              0.6666666666666666,
              "#ed7953"
             ],
             [
              0.7777777777777778,
              "#fb9f3a"
             ],
             [
              0.8888888888888888,
              "#fdca26"
             ],
             [
              1,
              "#f0f921"
             ]
            ],
            "type": "heatmapgl"
           }
          ],
          "histogram": [
           {
            "marker": {
             "pattern": {
              "fillmode": "overlay",
              "size": 10,
              "solidity": 0.2
             }
            },
            "type": "histogram"
           }
          ],
          "histogram2d": [
           {
            "colorbar": {
             "outlinewidth": 0,
             "ticks": ""
            },
            "colorscale": [
             [
              0,
              "#0d0887"
             ],
             [
              0.1111111111111111,
              "#46039f"
             ],
             [
              0.2222222222222222,
              "#7201a8"
             ],
             [
              0.3333333333333333,
              "#9c179e"
             ],
             [
              0.4444444444444444,
              "#bd3786"
             ],
             [
              0.5555555555555556,
              "#d8576b"
             ],
             [
              0.6666666666666666,
              "#ed7953"
             ],
             [
              0.7777777777777778,
              "#fb9f3a"
             ],
             [
              0.8888888888888888,
              "#fdca26"
             ],
             [
              1,
              "#f0f921"
             ]
            ],
            "type": "histogram2d"
           }
          ],
          "histogram2dcontour": [
           {
            "colorbar": {
             "outlinewidth": 0,
             "ticks": ""
            },
            "colorscale": [
             [
              0,
              "#0d0887"
             ],
             [
              0.1111111111111111,
              "#46039f"
             ],
             [
              0.2222222222222222,
              "#7201a8"
             ],
             [
              0.3333333333333333,
              "#9c179e"
             ],
             [
              0.4444444444444444,
              "#bd3786"
             ],
             [
              0.5555555555555556,
              "#d8576b"
             ],
             [
              0.6666666666666666,
              "#ed7953"
             ],
             [
              0.7777777777777778,
              "#fb9f3a"
             ],
             [
              0.8888888888888888,
              "#fdca26"
             ],
             [
              1,
              "#f0f921"
             ]
            ],
            "type": "histogram2dcontour"
           }
          ],
          "mesh3d": [
           {
            "colorbar": {
             "outlinewidth": 0,
             "ticks": ""
            },
            "type": "mesh3d"
           }
          ],
          "parcoords": [
           {
            "line": {
             "colorbar": {
              "outlinewidth": 0,
              "ticks": ""
             }
            },
            "type": "parcoords"
           }
          ],
          "pie": [
           {
            "automargin": true,
            "type": "pie"
           }
          ],
          "scatter": [
           {
            "fillpattern": {
             "fillmode": "overlay",
             "size": 10,
             "solidity": 0.2
            },
            "type": "scatter"
           }
          ],
          "scatter3d": [
           {
            "line": {
             "colorbar": {
              "outlinewidth": 0,
              "ticks": ""
             }
            },
            "marker": {
             "colorbar": {
              "outlinewidth": 0,
              "ticks": ""
             }
            },
            "type": "scatter3d"
           }
          ],
          "scattercarpet": [
           {
            "marker": {
             "colorbar": {
              "outlinewidth": 0,
              "ticks": ""
             }
            },
            "type": "scattercarpet"
           }
          ],
          "scattergeo": [
           {
            "marker": {
             "colorbar": {
              "outlinewidth": 0,
              "ticks": ""
             }
            },
            "type": "scattergeo"
           }
          ],
          "scattergl": [
           {
            "marker": {
             "colorbar": {
              "outlinewidth": 0,
              "ticks": ""
             }
            },
            "type": "scattergl"
           }
          ],
          "scattermapbox": [
           {
            "marker": {
             "colorbar": {
              "outlinewidth": 0,
              "ticks": ""
             }
            },
            "type": "scattermapbox"
           }
          ],
          "scatterpolar": [
           {
            "marker": {
             "colorbar": {
              "outlinewidth": 0,
              "ticks": ""
             }
            },
            "type": "scatterpolar"
           }
          ],
          "scatterpolargl": [
           {
            "marker": {
             "colorbar": {
              "outlinewidth": 0,
              "ticks": ""
             }
            },
            "type": "scatterpolargl"
           }
          ],
          "scatterternary": [
           {
            "marker": {
             "colorbar": {
              "outlinewidth": 0,
              "ticks": ""
             }
            },
            "type": "scatterternary"
           }
          ],
          "surface": [
           {
            "colorbar": {
             "outlinewidth": 0,
             "ticks": ""
            },
            "colorscale": [
             [
              0,
              "#0d0887"
             ],
             [
              0.1111111111111111,
              "#46039f"
             ],
             [
              0.2222222222222222,
              "#7201a8"
             ],
             [
              0.3333333333333333,
              "#9c179e"
             ],
             [
              0.4444444444444444,
              "#bd3786"
             ],
             [
              0.5555555555555556,
              "#d8576b"
             ],
             [
              0.6666666666666666,
              "#ed7953"
             ],
             [
              0.7777777777777778,
              "#fb9f3a"
             ],
             [
              0.8888888888888888,
              "#fdca26"
             ],
             [
              1,
              "#f0f921"
             ]
            ],
            "type": "surface"
           }
          ],
          "table": [
           {
            "cells": {
             "fill": {
              "color": "#EBF0F8"
             },
             "line": {
              "color": "white"
             }
            },
            "header": {
             "fill": {
              "color": "#C8D4E3"
             },
             "line": {
              "color": "white"
             }
            },
            "type": "table"
           }
          ]
         },
         "layout": {
          "annotationdefaults": {
           "arrowcolor": "#2a3f5f",
           "arrowhead": 0,
           "arrowwidth": 1
          },
          "autotypenumbers": "strict",
          "coloraxis": {
           "colorbar": {
            "outlinewidth": 0,
            "ticks": ""
           }
          },
          "colorscale": {
           "diverging": [
            [
             0,
             "#8e0152"
            ],
            [
             0.1,
             "#c51b7d"
            ],
            [
             0.2,
             "#de77ae"
            ],
            [
             0.3,
             "#f1b6da"
            ],
            [
             0.4,
             "#fde0ef"
            ],
            [
             0.5,
             "#f7f7f7"
            ],
            [
             0.6,
             "#e6f5d0"
            ],
            [
             0.7,
             "#b8e186"
            ],
            [
             0.8,
             "#7fbc41"
            ],
            [
             0.9,
             "#4d9221"
            ],
            [
             1,
             "#276419"
            ]
           ],
           "sequential": [
            [
             0,
             "#0d0887"
            ],
            [
             0.1111111111111111,
             "#46039f"
            ],
            [
             0.2222222222222222,
             "#7201a8"
            ],
            [
             0.3333333333333333,
             "#9c179e"
            ],
            [
             0.4444444444444444,
             "#bd3786"
            ],
            [
             0.5555555555555556,
             "#d8576b"
            ],
            [
             0.6666666666666666,
             "#ed7953"
            ],
            [
             0.7777777777777778,
             "#fb9f3a"
            ],
            [
             0.8888888888888888,
             "#fdca26"
            ],
            [
             1,
             "#f0f921"
            ]
           ],
           "sequentialminus": [
            [
             0,
             "#0d0887"
            ],
            [
             0.1111111111111111,
             "#46039f"
            ],
            [
             0.2222222222222222,
             "#7201a8"
            ],
            [
             0.3333333333333333,
             "#9c179e"
            ],
            [
             0.4444444444444444,
             "#bd3786"
            ],
            [
             0.5555555555555556,
             "#d8576b"
            ],
            [
             0.6666666666666666,
             "#ed7953"
            ],
            [
             0.7777777777777778,
             "#fb9f3a"
            ],
            [
             0.8888888888888888,
             "#fdca26"
            ],
            [
             1,
             "#f0f921"
            ]
           ]
          },
          "colorway": [
           "#636efa",
           "#EF553B",
           "#00cc96",
           "#ab63fa",
           "#FFA15A",
           "#19d3f3",
           "#FF6692",
           "#B6E880",
           "#FF97FF",
           "#FECB52"
          ],
          "font": {
           "color": "#2a3f5f"
          },
          "geo": {
           "bgcolor": "white",
           "lakecolor": "white",
           "landcolor": "#E5ECF6",
           "showlakes": true,
           "showland": true,
           "subunitcolor": "white"
          },
          "hoverlabel": {
           "align": "left"
          },
          "hovermode": "closest",
          "mapbox": {
           "style": "light"
          },
          "paper_bgcolor": "white",
          "plot_bgcolor": "#E5ECF6",
          "polar": {
           "angularaxis": {
            "gridcolor": "white",
            "linecolor": "white",
            "ticks": ""
           },
           "bgcolor": "#E5ECF6",
           "radialaxis": {
            "gridcolor": "white",
            "linecolor": "white",
            "ticks": ""
           }
          },
          "scene": {
           "xaxis": {
            "backgroundcolor": "#E5ECF6",
            "gridcolor": "white",
            "gridwidth": 2,
            "linecolor": "white",
            "showbackground": true,
            "ticks": "",
            "zerolinecolor": "white"
           },
           "yaxis": {
            "backgroundcolor": "#E5ECF6",
            "gridcolor": "white",
            "gridwidth": 2,
            "linecolor": "white",
            "showbackground": true,
            "ticks": "",
            "zerolinecolor": "white"
           },
           "zaxis": {
            "backgroundcolor": "#E5ECF6",
            "gridcolor": "white",
            "gridwidth": 2,
            "linecolor": "white",
            "showbackground": true,
            "ticks": "",
            "zerolinecolor": "white"
           }
          },
          "shapedefaults": {
           "line": {
            "color": "#2a3f5f"
           }
          },
          "ternary": {
           "aaxis": {
            "gridcolor": "white",
            "linecolor": "white",
            "ticks": ""
           },
           "baxis": {
            "gridcolor": "white",
            "linecolor": "white",
            "ticks": ""
           },
           "bgcolor": "#E5ECF6",
           "caxis": {
            "gridcolor": "white",
            "linecolor": "white",
            "ticks": ""
           }
          },
          "title": {
           "x": 0.05
          },
          "xaxis": {
           "automargin": true,
           "gridcolor": "white",
           "linecolor": "white",
           "ticks": "",
           "title": {
            "standoff": 15
           },
           "zerolinecolor": "white",
           "zerolinewidth": 2
          },
          "yaxis": {
           "automargin": true,
           "gridcolor": "white",
           "linecolor": "white",
           "ticks": "",
           "title": {
            "standoff": 15
           },
           "zerolinecolor": "white",
           "zerolinewidth": 2
          }
         }
        },
        "title": {
         "text": "Grouped Bar Chart: Course Funding by NATIONALITY GROUP"
        },
        "width": 1000,
        "xaxis": {
         "anchor": "y",
         "domain": [
          0,
          1
         ],
         "title": {
          "text": "Nationality Group"
         }
        },
        "yaxis": {
         "anchor": "x",
         "domain": [
          0,
          1
         ],
         "title": {
          "text": "Count"
         }
        }
       }
      }
     },
     "metadata": {},
     "output_type": "display_data"
    }
   ],
   "source": [
    "import plotly.express as px\n",
    "import pandas as pd\n",
    "\n",
    "# Load data\n",
    "data = pd.read_excel('./Data/data_export.xlsx')\n",
    "\n",
    "# Strip any leading or trailing whitespace characters from column names\n",
    "data.columns = data.columns.str.strip()\n",
    "\n",
    "# Create a new column for classification\n",
    "def classify_nationality(row):\n",
    "    if row['LOCAL'] == 'Y':\n",
    "        return 'LOCAL'\n",
    "    elif 'PR' in str(row['NATIONALITY']).upper():  # Check for PR in the nationality or residency status\n",
    "        return 'FOREIGN (PR)'\n",
    "    elif row['FOREIGN'] == 'Y':\n",
    "        return 'FOREIGN'\n",
    "    else:\n",
    "        return 'Unknown'\n",
    "\n",
    "data['Nationality_Group'] = data.apply(classify_nationality, axis=1)\n",
    "\n",
    "# Group by Nationality and Course Funding and count occurrences\n",
    "grouped_data = data.groupby(['Nationality_Group', 'COURSE FUNDING']).size().reset_index(name='Count')\n",
    "\n",
    "# Create the grouped bar chart\n",
    "fig = px.bar(\n",
    "    grouped_data,\n",
    "    x='Nationality_Group',\n",
    "    y='Count',\n",
    "    color='COURSE FUNDING',\n",
    "    barmode='group',\n",
    "    title='Grouped Bar Chart: Course Funding by NATIONALITY GROUP',\n",
    "    labels={'Nationality_Group': 'Nationality Group', 'Count': 'Count', 'COURSE FUNDING': 'Course Funding'}\n",
    ")\n",
    "\n",
    "# Update layout\n",
    "fig.update_layout(\n",
    "    width=1000,\n",
    "    height=600,\n",
    "    font=dict(size=14)\n",
    ")\n",
    "\n",
    "# Show the figure\n",
    "fig.show()\n",
    "\n"
   ]
  },
  {
   "cell_type": "markdown",
   "metadata": {},
   "source": [
    "#### Foreign Students\n",
    "- The majority of foreign students are self-funded (Individual), with approximately 20 students.\n",
    "- A smaller number of foreign students are sponsored, with about 5 students.\n",
    "\n",
    "#### Foreign (PR) Students\n",
    "- Similar to foreign students, a significant portion of foreign (PR) students are self-funded (Individual), with around 15 students.\n",
    "- There are minimal instances of other funding types among foreign (PR) students, with less than 5 students for each category.\n",
    "\n",
    "#### Local Students\n",
    "- Local students exhibit the highest number of self-funded (Individual) students, with a count close to 90.\n",
    "- A substantial number of local students also receive Individual - SFC funding, with about 70 students.\n",
    "- There are around 40 local students who are sponsored, and a few are under the Sponsored - Sdf category.\n",
    "\n",
    "### Summary\n",
    "- **Self-Funded Dominance**: Across all nationality groups, self-funding (Individual) is the most common form of course funding.\n",
    "- **Local vs. Foreign**: Local students have a significantly higher count in both self-funding (Individual) and Individual - SFC categories compared to foreign and foreign (PR) students.\n",
    "- **Diverse Funding**: Local students show a more diverse distribution of funding types, including a notable number of sponsored students and those under Individual - SFC."
   ]
  },
  {
   "cell_type": "code",
   "execution_count": 1,
   "metadata": {},
   "outputs": [
    {
     "name": "stderr",
     "output_type": "stream",
     "text": [
      "C:\\Users\\lhchu\\AppData\\Local\\Temp\\ipykernel_23924\\2181200977.py:2: UserWarning: \n",
      "The dash_core_components package is deprecated. Please replace\n",
      "`import dash_core_components as dcc` with `from dash import dcc`\n",
      "  import dash_core_components as dcc\n",
      "C:\\Users\\lhchu\\AppData\\Local\\Temp\\ipykernel_23924\\2181200977.py:3: UserWarning: \n",
      "The dash_html_components package is deprecated. Please replace\n",
      "`import dash_html_components as html` with `from dash import html`\n",
      "  import dash_html_components as html\n"
     ]
    },
    {
     "data": {
      "text/html": [
       "\n",
       "        <iframe\n",
       "            width=\"100%\"\n",
       "            height=\"650\"\n",
       "            src=\"http://127.0.0.1:8050/\"\n",
       "            frameborder=\"0\"\n",
       "            allowfullscreen\n",
       "            \n",
       "        ></iframe>\n",
       "        "
      ],
      "text/plain": [
       "<IPython.lib.display.IFrame at 0x178bcacfa50>"
      ]
     },
     "metadata": {},
     "output_type": "display_data"
    }
   ],
   "source": [
    "import dash\n",
    "import dash_core_components as dcc\n",
    "import dash_html_components as html\n",
    "from dash.dependencies import Input, Output\n",
    "import plotly.express as px\n",
    "import pandas as pd\n",
    "\n",
    "# Load data\n",
    "data = pd.read_excel('./Data/data_export.xlsx')\n",
    "\n",
    "# Strip any leading or trailing whitespace characters from column names\n",
    "data.columns = data.columns.str.strip()\n",
    "\n",
    "# Create a new column for classification\n",
    "def classify_nationality(row):\n",
    "    if row['LOCAL'] == 'Y':\n",
    "        return 'LOCAL'\n",
    "    elif 'PR' in str(row['NATIONALITY']).upper():  # Check for PR in the nationality or residency status\n",
    "        return 'FOREIGN (PR)'\n",
    "    elif row['FOREIGN'] == 'Y':\n",
    "        return 'FOREIGN'\n",
    "    else:\n",
    "        return 'Unknown'\n",
    "\n",
    "data['Nationality_Group'] = data.apply(classify_nationality, axis=1)\n",
    "\n",
    "# Initialize the Dash app\n",
    "app = dash.Dash(__name__)\n",
    "\n",
    "# Layout of the app\n",
    "app.layout = html.Div([\n",
    "    html.H1('Interactive Dashboard'),\n",
    "\n",
    "    # Dropdown menu for selecting nationality group\n",
    "    dcc.Dropdown(\n",
    "        id='nationality-group-dropdown',\n",
    "        options=[\n",
    "            {'label': 'LOCAL', 'value': 'LOCAL'},\n",
    "            {'label': 'FOREIGN', 'value': 'FOREIGN'},\n",
    "            {'label': 'FOREIGN (PR)', 'value': 'FOREIGN (PR)'}\n",
    "        ],\n",
    "        value='LOCAL'  # Default value\n",
    "    ),\n",
    "\n",
    "    # Container for the histogram\n",
    "    html.Div(id='histogram-container'),\n",
    "\n",
    "    # Container for the donut chart\n",
    "    html.Div(id='donut-chart-container')\n",
    "])\n",
    "\n",
    "# Callback to update histogram based on dropdown selection\n",
    "@app.callback(\n",
    "    Output('histogram-container', 'children'),\n",
    "    [Input('nationality-group-dropdown', 'value')]\n",
    ")\n",
    "def update_histogram(selected_group):\n",
    "    # Filter data based on selected nationality group\n",
    "    filtered_data = data[data['Nationality_Group'] == selected_group]\n",
    "\n",
    "    # Create histogram for age\n",
    "    fig = px.histogram(\n",
    "        filtered_data,\n",
    "        x='Age(at course completion)',\n",
    "        title=f'Histogram of Ages for {selected_group}',\n",
    "        labels={'Age(at course completion)': 'Age at Course Completion'}\n",
    "    )\n",
    "\n",
    "    # Update layout for better readability and size\n",
    "    fig.update_layout(\n",
    "        width=1000,\n",
    "        height=600,\n",
    "        font=dict(size=14)\n",
    "    )\n",
    "\n",
    "    return dcc.Graph(figure=fig)\n",
    "\n",
    "# Callback to update donut chart based on dropdown selection\n",
    "@app.callback(\n",
    "    Output('donut-chart-container', 'children'),\n",
    "    [Input('nationality-group-dropdown', 'value')]\n",
    ")\n",
    "def update_donut_chart(selected_group):\n",
    "    # Filter data based on selected nationality group\n",
    "    filtered_data = data[data['Nationality_Group'] == selected_group]\n",
    "\n",
    "    # Create donut chart for course distribution\n",
    "    fig = px.pie(\n",
    "        filtered_data,\n",
    "        names='CourseName',\n",
    "        title=f'Distribution of Courses for {selected_group}',\n",
    "        hole=0.4  # Creates the donut effect\n",
    "    )\n",
    "\n",
    "    # Update layout for better readability and size\n",
    "    fig.update_layout(\n",
    "        width=1000,\n",
    "        height=600,\n",
    "        font=dict(size=14)\n",
    "    )\n",
    "\n",
    "    return dcc.Graph(figure=fig)\n",
    "\n",
    "# Run the app\n",
    "if __name__ == '__main__':\n",
    "    app.run_server(debug=True)\n"
   ]
  },
  {
   "cell_type": "markdown",
   "metadata": {},
   "source": [
    "### LOCAL Group\n",
    "\n",
    "- **Age Distribution:** Primarily 25-35 years, with significant participation around 25-30 and 35-40 years.\n",
    "- **Course Preference:** The most popular course is the Certificate in Digital Marketing (38.6%). Other popular courses include the Diploma in Business Administration (20.1%) and various certificates and degrees with smaller percentages.\n",
    "\n",
    "### FOREIGN Group\n",
    "\n",
    "- **Age Distribution:** Mainly 25-35 years, peaking at 30-35 years.\n",
    "- **Course Preference:** A strong preference for the Certificate in Digital Marketing (44.4%) and Diploma in Business Administration (22.2%). Other courses have lower enrollment percentages.\n",
    "\n",
    "### FOREIGN (PR) Group\n",
    "\n",
    "- **Age Distribution:** Concentrated in the 25-35 years range, peaking at 30-35 years.\n",
    "- **Course Preference:** The Certificate in Digital Marketing is the most popular (57.1%), with the Diploma in Business Administration also notable (21.4%). Other courses have minimal enrollment.\n"
   ]
  },
  {
   "cell_type": "markdown",
   "metadata": {},
   "source": [
    "### Recommendation\n",
    "Based on the analysis, it is recommended to tailor specific programs or marketing strategies towards the 25-35 years age range, as this is the most represented age group across all categories. For the LOCAL group, additional focus could be placed on engaging individuals in the 35-40 years range, given the secondary peak observed."
   ]
  }
 ],
 "metadata": {
  "kernelspec": {
   "display_name": "base",
   "language": "python",
   "name": "python3"
  },
  "language_info": {
   "codemirror_mode": {
    "name": "ipython",
    "version": 3
   },
   "file_extension": ".py",
   "mimetype": "text/x-python",
   "name": "python",
   "nbconvert_exporter": "python",
   "pygments_lexer": "ipython3",
   "version": "3.11.7"
  }
 },
 "nbformat": 4,
 "nbformat_minor": 2
}
